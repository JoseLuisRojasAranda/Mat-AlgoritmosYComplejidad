{
 "cells": [
  {
   "cell_type": "markdown",
   "metadata": {},
   "source": [
    "# Fundamental Data Structures and Algorithms\n",
    "\n",
    "> Materia: Algoritmos y Complejidad <br>\n",
    "> Profesor: Juan Carlos Cueva Tello <br>\n",
    "> Alumno: Jose Luis Rojas Aranda <br>\n",
    "> Ing. Sistemas Inteligentes, UASLP <br>\n"
   ]
  },
  {
   "cell_type": "code",
   "execution_count": 1,
   "metadata": {},
   "outputs": [],
   "source": [
    "import math\n",
    "import numpy as np"
   ]
  },
  {
   "cell_type": "markdown",
   "metadata": {},
   "source": [
    "## Topic: 6 Heapsort, Heaps\n",
    "\n",
    "Like merge sort, but unlike insertion sort, heapsort’s running time is $O(nlgn)$. Like insertion sort, but unlike merge sort, heapsort sorts in place: only a constant number of array elements are stored outside the input array at any time. Thus, heapsort combines the better attributes of the two sorting algorithms we have already discussed.\n",
    "\n",
    "Heapsort also introduces another algorithm design technique: using a data structure, in this case one we call a “heap,” to manage information. Not only is the heap data structure useful for heapsort, but it also makes an efficient priority queue."
   ]
  },
  {
   "cell_type": "markdown",
   "metadata": {},
   "source": [
    "### Heaps\n",
    "The (binary) heap data structure is an array object that we can view as a nearly complete binary tree, as shown in Figure 6.1. \n",
    "\n",
    "<img src=\"imgs/CFig6_1.png\" alt=\"drawing\" width=\"600\"/>\n",
    "\n",
    "Each node of the tree corresponds to an element of the array. The tree is completely filled on all levels except possibly the lowest, which is filled from the left up to a point. An array `A` that represents a heap is an object with two attributes: `A.length`, which (as usual) gives the number of elements in the array, and `A.heapsize`, which represents how many elements in the heap are stored within array `A`. That is, although `A[1..A.lenght]` may contain numbers, only the elements in `A[1..A.heap-size]`, where `0 <= A.heap-size <= A.length`, are valid elements of the heap. The root of the tree is `A[1]` , and given the index `i` of a node, we can easily compute the indices of its parent, left child, and right child:\n",
    "\n",
    "$Parent(i)$ **return** [i/2]\n",
    "\n",
    "$Left(i)$ **return** 2i\n",
    "\n",
    "$Right(i)$ **return** 2i + 1\n",
    "\n",
    "There are two kinds of binary heaps: max-heaps and min-heaps. In both kinds, the values in the nodes satisfy a **heap property**, the specifics of which depend on the kind of heap. In a **max-heap**, the **max-heap property** is that for every node i other than the root,\n",
    "\n",
    "$$A[Parent(i)] >= A[i]$$\n",
    "\n",
    "that is, the value of a node is at most the value of its parent. Thus, the largest element in a max-heap is stored at the root, and the subtree rooted at a node contains values no larger than that contained at the node itself. A **min-heap** is organized in the opposite way; the **min-heap property** is that for every node i other than the root,\n",
    "\n",
    "$$A[Parent(i)] <= A[i]$$\n",
    "\n",
    "The smallest element in a min-heap is at the root."
   ]
  },
  {
   "cell_type": "code",
   "execution_count": 2,
   "metadata": {},
   "outputs": [],
   "source": [
    "class Heap:\n",
    "    def __init__(self, arreglo):\n",
    "        self.A = [None]\n",
    "        for i in range(len(arreglo)):\n",
    "            self.A.append(arreglo[i])\n",
    "        self.heap_size = len(self.A) - 1\n",
    "        self.length = self.heap_size\n",
    "\n",
    "def Parent(i):\n",
    "    return i/2\n",
    "\n",
    "def Left(i):\n",
    "    return (2*i)\n",
    "\n",
    "def Right(i):\n",
    "    return (2*i) + 1"
   ]
  },
  {
   "cell_type": "markdown",
   "metadata": {},
   "source": [
    "### Maintaining the heap property\n",
    "In order to maintain the max-heap property, we call the procedure `Max-Heapify`. Its inputs are an array A and an index `i` into the array. When it is called, `Max-Heapify` assumes that the binary trees rooted at $Left(i)$ and $Right(i)$ are max-heaps, but that `A[i]`  might be smaller than its children, thus violating the max-heap property. `Max-Heapify` lets the value at `A[i]`  “float down” in the max-heap so that the subtree rooted at index `i` obeys the max-heap property."
   ]
  },
  {
   "cell_type": "code",
   "execution_count": 3,
   "metadata": {},
   "outputs": [],
   "source": [
    "def Max_Heapify(h, i):\n",
    "    l = Left(i)\n",
    "    r = Right(i)\n",
    "    if l <= h.heap_size and h.A[l] > h.A[i]:\n",
    "        largest = l\n",
    "    else:\n",
    "        largest = i\n",
    "    if r <= h.heap_size and h.A[r] > h.A[largest]:\n",
    "        largest = r\n",
    "    if largest != i:\n",
    "        temp = h.A[i]\n",
    "        h.A[i] = h.A[largest]\n",
    "        h.A[largest] = temp\n",
    "        Max_Heapify(h, largest)"
   ]
  },
  {
   "cell_type": "markdown",
   "metadata": {},
   "source": [
    "Figure 6.2 illustrates the action of `Max-Heapify`.\n",
    "\n",
    "<img src=\"imgs/CFig6_2.png\" alt=\"drawing\" width=\"500\"/>"
   ]
  },
  {
   "cell_type": "code",
   "execution_count": 4,
   "metadata": {},
   "outputs": [
    {
     "name": "stdout",
     "output_type": "stream",
     "text": [
      "Original: [None, 16, 4, 10, 14, 7, 9, 3, 2, 8, 1]\n",
      "Nodo 2: [None, 16, 14, 10, 8, 7, 9, 3, 2, 4, 1]\n",
      "Nodo 4: [None, 16, 14, 10, 8, 7, 9, 3, 2, 4, 1]\n"
     ]
    }
   ],
   "source": [
    "# Ejecutando ejemplo de la figura 6.2\n",
    "heap = Heap([16, 4, 10, 14, 7, 9, 3, 2, 8, 1])\n",
    "print(\"Original: {}\".format(heap.A))\n",
    "Max_Heapify(heap, 2)\n",
    "print(\"Nodo 2: {}\".format(heap.A))\n",
    "Max_Heapify(heap, 4)\n",
    "print(\"Nodo 4: {}\".format(heap.A))"
   ]
  },
  {
   "cell_type": "markdown",
   "metadata": {},
   "source": [
    "The running time of `Max-Heapify` on a subtree of size $n$ rooted at a given node $i$ is the $\\Theta(1)$ time to fix up the relationships among the elements $A[i]$, $A[Left(i)]$, and $A[Right(i)]$, plus the time to run`Max-Heapify` on a subtree rooted at one of the children of node $i$ (assuming that the recursive call occurs). The children’s subtrees each have size at most $2n/3$—the worst case occurs when the bottom level of the tree is exactly half full—and therefore we can describe the running time of `Max-Heapify` by the recurrence:\n",
    "\n",
    "$$T(n) <= T(2n/3) + \\Theta(1)$$\n",
    "\n",
    "The solution to this recurrence, by case 2 of the master theorem, is $T(n)=O(lg n)$. Alternatively, we can characterize the running time of `Max-Heapify` on a node of height $h$ as $O(h)$."
   ]
  },
  {
   "cell_type": "markdown",
   "metadata": {},
   "source": [
    "### Building a heap\n",
    "We can use the procedure `Max-Heapify` in a bottom-up manner to convert an array $A[1..n]$, where `n = A.length`, into a max-heap."
   ]
  },
  {
   "cell_type": "code",
   "execution_count": 5,
   "metadata": {},
   "outputs": [],
   "source": [
    "def Build_Max_Heap(h):\n",
    "    for i in range(int(h.heap_size/2), 0, -1):\n",
    "        Max_Heapify(h, i)"
   ]
  },
  {
   "cell_type": "markdown",
   "metadata": {},
   "source": [
    "Figure 6.3 shows an example of the action of BUILD-MAX-HEAP.\n",
    "\n",
    "<img src=\"imgs/CFig6_3.png\" alt=\"drawing\" width=\"400\"/>"
   ]
  },
  {
   "cell_type": "code",
   "execution_count": 6,
   "metadata": {},
   "outputs": [
    {
     "name": "stdout",
     "output_type": "stream",
     "text": [
      "[None, 16, 14, 10, 8, 7, 9, 3, 2, 4, 1]\n"
     ]
    }
   ],
   "source": [
    "heap = Heap([4, 1, 3, 2, 16, 9, 10, 14, 8, 7])\n",
    "Build_Max_Heap(heap)\n",
    "print(heap.A)"
   ]
  },
  {
   "cell_type": "markdown",
   "metadata": {},
   "source": [
    "### The heapsort algorithm\n",
    "The heapsort algorithm starts by using `Build-Max-Heap` to build a max-heap on the input array $A[1..n]$ , where $n = A.length$. Since the maximum element of the array is stored at the root $A[1]$ , we can put it into its correct final position by exchanging it with $A[n]$ . If we now discard node $n$ from the heap—and we can do so by simply decrementing `A.heap-size`—we observe that the children of the root remain max-heaps, but the new root element might violate the max-heap property. All we need to do to restore the max-heap property, however, is call `Max-Heapify(A,1)`, which leaves a max-heap in $A[1..n-1]$. The heapsort algorithm then repeats this process for the max-heap of size $n-1$ down to a heap of size 2."
   ]
  },
  {
   "cell_type": "code",
   "execution_count": 7,
   "metadata": {},
   "outputs": [],
   "source": [
    "def Heapsort(h):\n",
    "    Build_Max_Heap(h)\n",
    "    for i in range(h.length, 1, -1):\n",
    "        temp = h.A[i]\n",
    "        h.A[i] = h.A[1]\n",
    "        h.A[1] = temp\n",
    "        h.heap_size = h.heap_size - 1\n",
    "        Max_Heapify(h, 1)"
   ]
  },
  {
   "cell_type": "markdown",
   "metadata": {},
   "source": [
    "The next figure shows an example of the operation of HEAPSORT\n",
    "\n",
    "<img src=\"imgs/CFig6_4.png\" alt=\"drawing\" width=\"600\"/>"
   ]
  },
  {
   "cell_type": "code",
   "execution_count": 8,
   "metadata": {},
   "outputs": [
    {
     "name": "stdout",
     "output_type": "stream",
     "text": [
      "[None, 1, 2, 3, 4, 7, 8, 9, 10, 14, 16]\n"
     ]
    }
   ],
   "source": [
    "Heapsort(heap)\n",
    "print(heap.A)"
   ]
  },
  {
   "cell_type": "markdown",
   "metadata": {},
   "source": [
    "The `Heapsort` procedure takes time $O(n lgn)$, since the call to `Build-Max-Heap` takes time $O(n)$ and each of the $n-1$ calls to `Max-Heapify` takes time $O(lg n)$."
   ]
  },
  {
   "cell_type": "markdown",
   "metadata": {},
   "source": [
    "## Topic: 11   Hash Tables\n",
    "\n",
    "Many applications require a dynamic set that supports only the dictionary operations `Insert`, `Search`, and `Delete`. A hash table is an effective data structure for implementing dictionaries. Although searching for an element in a hash table can take as long as searching for an element in a linked list–$\\Theta(n)$ time in the worst case—in practice, hashing performs extremely well. Under reasonable assumptions, the average time to search for an element in a hash table is $O(1)$.\n",
    "\n",
    "A hash table generalizes the simpler notion of an ordinary array. Directly addressing into an ordinary array makes effective use of our ability to examine an arbitrary position in an array in $O(1)$ time. We can take advantage of direct addressing when we can afford to allocate an array that has one position for every possible key.\n",
    "\n",
    "When the number of keys actually stored is small relative to the total number of possible keys, hash tables become an effective alternative to directly addressing an array, since a hash table typically uses an array of size proportional to the number of keys actually stored. Instead of using the key as an array index directly, the array index is computed from the key."
   ]
  },
  {
   "cell_type": "markdown",
   "metadata": {},
   "source": [
    "### Direct-adress tables\n",
    "\n",
    "Direct addressing is a simple technique that works well when the universe $U$ of keys is reasonably small. Suppose that an application needs a dynamic set in which each element has a key drawn from the universe $U = \\{0,1,...,m-1\\}$, where $m$ is not too large. We shall assume that no two elements have the same key.\n",
    "\n",
    "<img src=\"imgs/CFig11_1.png\" alt=\"drawing\" width=\"500\"/>"
   ]
  },
  {
   "cell_type": "code",
   "execution_count": 9,
   "metadata": {},
   "outputs": [],
   "source": [
    "class Key:\n",
    "    def __init__(self, key, dato):\n",
    "        self.key = key\n",
    "        self.dato = dato\n",
    "        \n",
    "class DATable:\n",
    "    def __init__(self, tam):\n",
    "        self.T = [None] * Tam\n",
    "    \n",
    "    def Insert(self, x):\n",
    "        self.T[x.key] = x\n",
    "        \n",
    "    def Delete(self, x):\n",
    "        self.T[x.key] = None\n",
    "    \n",
    "    def Search(self, k):\n",
    "        return self.T[k]"
   ]
  },
  {
   "cell_type": "markdown",
   "metadata": {},
   "source": [
    "### Hash tables\n",
    "\n",
    "The downside of direct addressing is obvious: if the universe $U$ is large, storing a table $T$ of size $|U|$ may be impractical, or even impossible, given the memory available on a typical computer. Furthermore, the set $K$ of keys actually stored may be so small relative to $U$ that most of the space allocated for $T$ would be wasted.\n",
    "\n",
    "When the set $K$ of keys stored in a dictionary is much smaller than the universe $U$ of all possible keys, a hash table requires much less storage than a direct address table. Specifically, we can reduce the storage requirement to $\\Theta(|K|)$ while we maintain the benefit that searching for an element in the hash table still requires only $O(1)$ time.\n",
    "\n",
    "With direct addressing, an element with key $k$ is stored in slot $k$. With hashing, this element is stored in slot $h(k)$; that is, we use a **hash function** $h$ to compute the slot from the key $k$. Here, $h$ maps the universe $U$ of keys into the slots of a hash table $T[0..m-1]$.\n",
    "\n",
    "Where the size $m$ of the hash table is typically much less than $|U|$. We say that an element with key $k$ hashes to slot $h(k)$; we also say that $h(k)$ is the hash value of key k.\n",
    "\n",
    "<img src=\"imgs/CFig11_2.png\" alt=\"drawing\" width=\"500\"/>"
   ]
  },
  {
   "cell_type": "markdown",
   "metadata": {},
   "source": [
    "There is one hitch: two keys may hash to the same slot. We call this situation a collision. Fortunately, we have effective techniques for resolving the conflict created by collisions. In chaining, we place all the elements that hash to the same slot into the same linked list, as Figure 11.3 shows.\n",
    "<img src=\"imgs/CFig11_3.png\" alt=\"drawing\" width=\"500\"/>"
   ]
  },
  {
   "cell_type": "markdown",
   "metadata": {},
   "source": [
    "### Hash functions\n",
    "\n",
    "A good hash function satisfies (approximately) the assumption of simple uniform hashing: each key is equally likely to hash to any of the $m$ slots, independently of where any other key has hashed to. Unfortunately, we typically have no way to check this condition, since we rarely know the probability distribution from which the keys are drawn. Moreover, the keys might not be drawn independently.\n",
    "\n",
    "#### The multiplication method\n",
    "The multiplication method for creating hash functions operates in two steps. First, we multiply the key $k$ by a constant $A$ in the range $0 < A < 1$ and extract the fractional part of $kA$. Then, we multiply this value by $m$ and take the floor of the result. In short, the hash function is\n",
    "$$h(k) = floor(m(kA mod 1))$$\n",
    "Although this method works with any value of the constant A, it works better with some values than with others. The optimal choice depends on the characteristics of the data being hashed. Knuth  suggests that\n",
    "$$A = (\\sqrt{5} - 1)/2 = 0.6180339887..$$"
   ]
  },
  {
   "cell_type": "code",
   "execution_count": 10,
   "metadata": {},
   "outputs": [],
   "source": [
    "m = 10\n",
    "\n",
    "def h(k):\n",
    "    A =   (math.sqrt(5) - 1) / 2\n",
    "    return math.floor( m * ( (k*A) % 1 ) )"
   ]
  },
  {
   "cell_type": "markdown",
   "metadata": {},
   "source": [
    "Podemos probar como va generando los hashes"
   ]
  },
  {
   "cell_type": "code",
   "execution_count": 11,
   "metadata": {},
   "outputs": [
    {
     "name": "stdout",
     "output_type": "stream",
     "text": [
      "6\n",
      "2\n",
      "8\n",
      "4\n",
      "0\n",
      "7\n",
      "3\n",
      "9\n",
      "5\n",
      "1\n"
     ]
    }
   ],
   "source": [
    "for i in range(1, 11):\n",
    "    print(h(i))"
   ]
  },
  {
   "cell_type": "code",
   "execution_count": 12,
   "metadata": {},
   "outputs": [],
   "source": [
    "class HashTable:\n",
    "    def __init__(self, m):\n",
    "        self.T = [None] * m\n",
    "        self.m = m\n",
    "        \n",
    "    # Hash prima\n",
    "    def hP(self, k):\n",
    "        A = (math.sqrt(5) - 1) / 2\n",
    "        return math.floor( self.m * ( (k.key*A) % 1 ) )\n",
    "    \n",
    "    # Hash con linear probing\n",
    "    def h(self, k, i):\n",
    "        return (self.hP(k) + i) % self.m\n",
    "    \n",
    "    def Insert(self, k):\n",
    "        i = 0\n",
    "        while True:\n",
    "            j = self.h(k, i)\n",
    "            if self.T[j] == None:\n",
    "                self.T[j] = k\n",
    "                return j\n",
    "            else:\n",
    "                i = i + 1\n",
    "            if(i == self.m):\n",
    "                break\n",
    "        print(\"error, hash table overflow\")\n",
    "    \n",
    "    def Search(self, k):\n",
    "        i = 0\n",
    "        while True:\n",
    "            j = self.h(k, i)\n",
    "            if self.T[j] == k:\n",
    "                return j\n",
    "            i = i + 1\n",
    "            if self.T[j] == None or i == m:\n",
    "                break\n",
    "        return None\n",
    "            "
   ]
  },
  {
   "cell_type": "code",
   "execution_count": 13,
   "metadata": {},
   "outputs": [
    {
     "name": "stdout",
     "output_type": "stream",
     "text": [
      "[None, None, <__main__.Key object at 0x10e03c438>, None, None, None, None, None, None, None]\n",
      "[None, None, <__main__.Key object at 0x10e03c438>, None, None, None, None, None, <__main__.Key object at 0x10e03c9b0>, None]\n",
      "8\n"
     ]
    }
   ],
   "source": [
    "tabla = HashTable(10)\n",
    "\n",
    "tabla.Insert(Key(2, 100))\n",
    "print(tabla.T)\n",
    "\n",
    "k = Key(3, 100)\n",
    "tabla.Insert(k)\n",
    "print(tabla.T)\n",
    "\n",
    "i = tabla.Search(k)\n",
    "print(i)"
   ]
  },
  {
   "cell_type": "markdown",
   "metadata": {},
   "source": [
    "## Topic: 23 Minimum Spanning Trees and The algorithms of Kruskal and Prim\n",
    "\n",
    "Electronic circuit designs often need to make the pins of several components electrically equivalent by wiring them together. To interconnect a set of $n$ pins, we can use an arrangement of $n-1$ wires, each connecting two pins. Of all such arrangements, the one that uses the least amount of wire is usually the most desirable.\n",
    "We can model this wiring problem with a connected, undirected graph $G = (V, E)$, where $V$ is the set of pins, $E$ is the set of possible interconnections between pairs of pins, and for each edge $(u, v) \\in E$, we have a weight $w(u, v)$, specifying the cost (amount of wire needed) to connect $u$ and $v$. We then wish to find an acyclic subset $T \\subseteq E$ that connects all of the vertices.\n",
    "\n",
    "Since T is acyclic and connects all of the vertices, it must form a tree, which we call a spanning tree since it “spans” the graph $G$. We call the problem of determining the tree $T$ **the minimum-spanning-tree problem**. Figure 23.1 shows an example of a connected graph and a minimum spanning tree.\n",
    "\n",
    "<img src=\"imgs/CFig23_1.png\" alt=\"drawing\" width=\"500\"/>"
   ]
  },
  {
   "cell_type": "markdown",
   "metadata": {},
   "source": [
    "### Kruskal’s algorithm\n",
    "\n",
    "Kruskal’s algorithm finds a safe edge to add to the growing forest by finding, of all the edges that connect any two trees in the forest, an edge $(u, v)$ of least weight. Kruskal’s algorithm qualifies as a greedy algorithm because at each step it adds to the forest an edge of least possible weight.\n",
    "\n",
    "It uses a disjoint-set data structure to maintain several disjoint sets of elements. Each set contains the vertices in one tree of the current forest. The operation $Find-Set(u)$ returns a representative element from the set that contains $u$. Thus, we can determine whether two vertices $u$ and $v$ belong to the same tree by testing whether $Find-Set(u)$ equals $Find-Set(v)$ To combine trees, Kruskal’s algorithm calls the $Union$ procedure.\n",
    "\n",
    "<img src=\"imgs/CPseudo_Kruskal.png\" alt=\"drawing\" width=\"450\"/>\n",
    "\n",
    "The loop checks, for each edge $(u, v)$, whether the endpoints $u$ and $v$ belong to the same tree. If they do, then the edge $(u, v)$ cannot be added to the forest without creating a cycle, and the edge is discarded. Otherwise, the two vertices belong to different trees. In this case, line 7 adds the edge $(u, v)$ to A, and line 8 merges the vertices in the two trees.\n",
    "\n",
    "<img src=\"imgs/CFig23_4_1.png\" alt=\"drawing\" width=\"450\"/>\n",
    "<img src=\"imgs/CFig23_4_2.png\" alt=\"drawing\" width=\"450\"/>\n",
    "\n",
    "The running time of Kruskal’s algorithm for a graph $G = (V, E)$ depends on how we implement the disjoint-set data structure. We assume that we use the disjoint-set-forest implementation with the union-by-rank and path-compression heuristics, since it is the asymptotically fastest implementation known.\n",
    "\n",
    "We can restate the running time of Kruskal’s algorithm as \n",
    "$$O(E * log V)$$"
   ]
  },
  {
   "cell_type": "code",
   "execution_count": 14,
   "metadata": {},
   "outputs": [],
   "source": [
    "# Implementacion usando lo siguiente:\n",
    "# Union por rango\n",
    "# Compresion de camino\n",
    "\n",
    "class Grafo:\n",
    "    # Implementacion unica con numeros como vertices\n",
    "    def __init__(self, vertices):\n",
    "        self.V = vertices\n",
    "        self.grafo = []\n",
    "    \n",
    "    def AddArista(self, u, v, w):\n",
    "        self.grafo.append([u, v, w])\n",
    "        \n",
    "    # Busqueda usando compresion de camino\n",
    "    def Busqueda(self, padre, i):\n",
    "        if padre[i] == i:\n",
    "            return i\n",
    "        return self.Busqueda(padre, padre[i])\n",
    "    \n",
    "    # Union por rango\n",
    "    def Union(self, padre, rango, x, y):\n",
    "        xraiz = self.Busqueda(padre, x)\n",
    "        yraiz = self.Busqueda(padre, y)\n",
    "        \n",
    "        if rango[xraiz] < rango[yraiz]:\n",
    "            padre[xraiz] = yraiz\n",
    "        elif rango[xraiz] > rango[yraiz]:\n",
    "            padre[yraiz] = xraiz\n",
    "        else:\n",
    "            padre[yraiz] = xraiz\n",
    "            rango[xraiz] += 1\n",
    "            \n",
    "    def KruskalMST(self):\n",
    "        A = []     # resultado del MST\n",
    "        i = 0\n",
    "        e = 0\n",
    "        \n",
    "        # Ordena el grafo por su peso\n",
    "        self.grafo =  sorted(self.grafo, key=lambda item: item[2])\n",
    "        padre = [] ; rango = []\n",
    "        \n",
    "        for nodo in range(self.V):\n",
    "            padre.append(nodo)\n",
    "            rango.append(0)\n",
    "            \n",
    "        while e < self.V - 1:\n",
    "            u, v, w = self.grafo[i]\n",
    "            i = i + 1\n",
    "            x = self.Busqueda(padre, u)\n",
    "            y = self.Busqueda(padre, v)\n",
    "            \n",
    "            if x != y:\n",
    "                e = e + 1\n",
    "                A.append([u, v, w])\n",
    "                self.Union(padre, rango, x, y)\n",
    "            \n",
    "        return A"
   ]
  },
  {
   "cell_type": "code",
   "execution_count": 15,
   "metadata": {},
   "outputs": [
    {
     "name": "stdout",
     "output_type": "stream",
     "text": [
      "[[6, 7, 1], [5, 6, 2], [8, 2, 2], [0, 1, 4], [2, 5, 4], [2, 3, 7], [1, 2, 8], [3, 4, 9]]\n"
     ]
    }
   ],
   "source": [
    "# Probando el codigo\n",
    "# a-0, b-1, c-2, d-3, e-4, f-5, g-6, h-7, i-8 \n",
    "g = Grafo(9)\n",
    "g.AddArista(0, 1, 4)\n",
    "g.AddArista(1, 2, 8)\n",
    "g.AddArista(2, 3, 7)\n",
    "g.AddArista(3, 4, 9)\n",
    "g.AddArista(4, 5, 10)\n",
    "g.AddArista(5, 6, 2)\n",
    "g.AddArista(6, 7, 1)\n",
    "g.AddArista(7, 0, 8)\n",
    "g.AddArista(7, 8, 7)\n",
    "g.AddArista(6, 8, 6)\n",
    "g.AddArista(8, 2, 2)\n",
    "g.AddArista(2, 5, 4)\n",
    "g.AddArista(1, 7, 11)\n",
    "g.AddArista(3, 5, 14)\n",
    "\n",
    "A = g.KruskalMST()\n",
    "\n",
    "print(A)"
   ]
  },
  {
   "cell_type": "markdown",
   "metadata": {},
   "source": [
    "### Prim’s algorithm\n",
    "\n",
    "Prim’s algorithm operates much like Dijkstra’s algorithm for finding shortest paths in a graph. Prim’s algorithm has the property that the edges in the set A always form a single tree.\n",
    "As Figure 23.5 shows, the tree starts from an arbitrary root vertex $r$ and grows until the tree spans all the vertices in $V$. Each step adds to the tree $A$ a light edge that connects $A$ to an isolated vertex—one on which no edge of $A$ is incident.\n",
    "In order to implement Prim’s algorithm efficiently, we need a fast way to select a new edge to add to the tree formed by the edges in $A$. In the pseudocode below, the connected graph $G$ and the root $r$ of the minimum spanning tree to be grown are inputs to the algorithm. During execution of the algorithm, all vertices that are not in the tree reside in a min-priority queue $Q$ based on a key attribute. For each vertex $v$, the attribute  $v.key$ is the minimum weight of any edge connecting $v$ to a vertex in the tree; by convention, $v.key = \\infty$ if there is no such edge. The attribute $v.\\pi$ names the parent of $v$ in the tree.\n",
    "\n",
    "<img src=\"imgs/CPseudo_Prim.png\" alt=\"drawing\" width=\"300\"/>\n",
    "<img src=\"imgs/CFig23_5.png\" alt=\"drawing\" width=\"450\"/>\n"
   ]
  },
  {
   "cell_type": "code",
   "execution_count": 16,
   "metadata": {},
   "outputs": [],
   "source": [
    "class Grafo:\n",
    "    # Implementacion unica con numeros como vertices\n",
    "    def __init__(self, vertices):\n",
    "        self.V = vertices\n",
    "        self.grafo = []\n",
    "        self.adjMtrx = [[0 for column in range(vertices)]  for row in range(vertices)]\n",
    "    \n",
    "    def AddArista(self, u, v, w):\n",
    "        self.grafo.append([u, v, w])\n",
    "        \n",
    "    def CreaMtrxAdj(self):   \n",
    "      for i in range(0, len(self.grafo)):\n",
    "        self.adjMtrx[self.grafo[i][0]][self.grafo[i][1]] = self.grafo[i][2]\n",
    "        self.adjMtrx[self.grafo[i][1]][self.grafo[i][0]] = self.grafo[i][2]\n",
    "        \n",
    "    def MinKey(self, key, mstSet):\n",
    "        min = math.inf\n",
    "        for v in range(self.V):\n",
    "            if key[v] < min and mstSet[v] == False:\n",
    "                min = key[v]\n",
    "                min_index = v\n",
    "        return min_index\n",
    "        \n",
    "    def PrimMST(self):\n",
    "        key = [math.inf] * self.V\n",
    "        parent = [None] * self.V\n",
    "        \n",
    "        key[0] = 0\n",
    "        mstSet = [False] * self.V\n",
    "        \n",
    "        parent[0] = -1\n",
    "        \n",
    "        for cout in range(self.V): \n",
    "            u = self.MinKey(key, mstSet) \n",
    "            mstSet[u] = True\n",
    "  \n",
    "            for v in range(self.V): \n",
    "                if self.adjMtrx[u][v] > 0 and mstSet[v] == False and key[v] > self.adjMtrx[u][v]: \n",
    "                        key[v] = self.adjMtrx[u][v] \n",
    "                        parent[v] = u \n",
    "                        \n",
    "        A = []\n",
    "        for i in range(1, self.V): \n",
    "            A.append([parent[i], i, self.adjMtrx[i][parent[i]]])\n",
    "        \n",
    "        return A"
   ]
  },
  {
   "cell_type": "code",
   "execution_count": 17,
   "metadata": {},
   "outputs": [
    {
     "name": "stdout",
     "output_type": "stream",
     "text": [
      "[[0, 1, 4], [1, 2, 8], [2, 3, 7], [3, 4, 9], [2, 5, 4], [5, 6, 2], [6, 7, 1], [2, 8, 2]]\n"
     ]
    }
   ],
   "source": [
    "g = Grafo(9)\n",
    "\n",
    "g.AddArista(0, 1, 4)\n",
    "g.AddArista(1, 2, 8)\n",
    "g.AddArista(2, 3, 7)\n",
    "g.AddArista(3, 4, 9)\n",
    "g.AddArista(4, 5, 10)\n",
    "g.AddArista(5, 6, 2)\n",
    "g.AddArista(6, 7, 1)\n",
    "g.AddArista(7, 0, 8)\n",
    "g.AddArista(7, 8, 7)\n",
    "g.AddArista(6, 8, 6)\n",
    "g.AddArista(8, 2, 2)\n",
    "g.AddArista(2, 5, 4)\n",
    "g.AddArista(1, 7, 11)\n",
    "g.AddArista(3, 5, 14)\n",
    "\n",
    "g.CreaMtrxAdj()\n",
    "A = g.PrimMST()\n",
    "print(A)"
   ]
  }
 ],
 "metadata": {
  "kernelspec": {
   "display_name": "Python 3",
   "language": "python",
   "name": "python3"
  },
  "language_info": {
   "codemirror_mode": {
    "name": "ipython",
    "version": 3
   },
   "file_extension": ".py",
   "mimetype": "text/x-python",
   "name": "python",
   "nbconvert_exporter": "python",
   "pygments_lexer": "ipython3",
   "version": "3.7.2"
  }
 },
 "nbformat": 4,
 "nbformat_minor": 2
}
