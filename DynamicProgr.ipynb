{
 "cells": [
  {
   "cell_type": "markdown",
   "metadata": {},
   "source": [
    "# Dynamic Programming\n",
    "> Materia: Algoritmos y Complejiada <br>\n",
    "> Profesor: Juan Carlos Cuevas Tello <br>\n",
    "> Alumno: Jose Luis Rojas Aranda <br>\n",
    "> Ing. Sistemas Inteligentes, UASLP <br>\n",
    "\n",
    "Dynamic programming, like the divide-and-conquer method, solves problems by combining the solutions to subproblems. In contrast, dynamic programming applies when the subprob- lems overlap—that is, when subproblems share subsubproblems. In this context, a divide-and-conquer algorithm does more work than necessary, repeatedly solv- ing the common subsubproblems. A dynamic-programming algorithm solves each subsubproblem just once and then saves its answer in a table, thereby avoiding the work of recomputing the answer every time it solves each subsubproblem.\n",
    "\n",
    "* Good for Optimization problems\n",
    "\n",
    "When developing a dynamic-programming algorithm. We follow a sequence of four steps:\n",
    "\n",
    "1. Characterize the structure of an optimal solution\n",
    "2. Recursively define the value of an optimal solution\n",
    "3. Compute the value of an optimal solution, typically in a bottom-up fashion.\n",
    "4. Construct an optimal solution from computed information.\n"
   ]
  },
  {
   "cell_type": "markdown",
   "metadata": {},
   "source": [
    "### 15.1 Rod cutting \n",
    "\n",
    "The rod-cutting problem is the following. Given a rod of length $n$ inches and a table of prices $P_i$ for $i=1,2,...,n$ determine the maximum revenue $r_n$ obtainable by cutting up the road and selling the pieces. Note that if the price $P_n$ for a rod of length is large enough, an optimal solution may require no cutting at all.\n",
    "* Each cut is free\n",
    "* Steal roads (varilla)"
   ]
  },
  {
   "cell_type": "markdown",
   "metadata": {},
   "source": [
    "A sample price table:\n",
    "\n",
    "| lenght i | 1 | 2 | 3 | 4 | 5 | 6 | 7 | 8 | 9 | 10 |\n",
    "| --- | --- | --- | --- | --- | --- | --- | --- | --- | --- | --- |\n",
    "| Price $P_i$ | 1 | 5 | 8 | 9 | 10 | 17 | 17 | 20 | 24 | 30 |"
   ]
  },
  {
   "cell_type": "markdown",
   "metadata": {},
   "source": [
    "If an optimal solution cuts the rod into k pieces, for some 1 <= k <= n, then an optimal descomposition.\n",
    "\n",
    "$$n = i_1 + i_2 + ... + i_k$$\n",
    "\n",
    "of the rod into pieces of lenghts $i_1, i_2,..., i_k$ provides maximum corresponding revenue.\n",
    "\n",
    "$$r_n = P_{i_1} + P_{i_2} + ... + P_{i_k}$$\n",
    "\n",
    "More generally, we can frame the values $r_n$ for $n$ >= 1 in terms of optimal revenues from shorter rods:\n",
    "\n",
    "$$r_n = max(p_n, r_1 + r_{n-1}, r_2 + r_{n-2}, ... , r_{n-1} + r_1)$$\n",
    "$$r_n = max_{1<=i<=n}(p_i + r_{n-i})$$\n"
   ]
  },
  {
   "cell_type": "markdown",
   "metadata": {},
   "source": [
    "## Recursive top-down implementation"
   ]
  },
  {
   "cell_type": "code",
   "execution_count": 1,
   "metadata": {},
   "outputs": [],
   "source": [
    "P = [1, 5, 8, 9, 10, 17, 17, 20, 24, 30]"
   ]
  },
  {
   "cell_type": "code",
   "execution_count": 2,
   "metadata": {},
   "outputs": [],
   "source": [
    "# Recursive top-down implementation\n",
    "def CutRodRTD(p, n):\n",
    "    if n == 0:\n",
    "        return 0\n",
    "    q = 0\n",
    "    for i in range(1, n+1):\n",
    "        q = max(q, p[i-1] + CutRodRTD(p, n-i))\n",
    "        \n",
    "    return q"
   ]
  },
  {
   "cell_type": "code",
   "execution_count": 3,
   "metadata": {},
   "outputs": [
    {
     "name": "stdout",
     "output_type": "stream",
     "text": [
      "Ganancia maxima: 10\n"
     ]
    }
   ],
   "source": [
    "print(\"Ganancia maxima: {}\".format(CutRodRTD(P, 4)))"
   ]
  },
  {
   "cell_type": "markdown",
   "metadata": {},
   "source": [
    "Para analizar este ultimo algoritmo, tenemos que $T(n)$ denota el numero total de llamadas a la funcion `CutRodRTD` cuando es llamado con su segundo parametro que es igual a n. Tenemos lo siguiente\n",
    "\n",
    "Cunado $n = 0$\n",
    "$$T(0) = 1$$\n",
    "\n",
    "Cuando $n > 0$\n",
    "\n",
    "$$T(n) = 1 + \\sum_{j=0}^{n-1} T(j)$$\n",
    "\n",
    "Tenemos la siguiente equivalencia:\n",
    "\n",
    "$$\\sum_{K=0}^{n} a_i = (n/2)(a_1 + a_n)$$\n",
    "$$\\sum_{j=0}^{n-1} T(j) = T((n/2)(0 + n-1)) = T(\\frac{n(n-1)}{2})$$\n",
    "\n",
    "Por lo tanto\n",
    "\n",
    "$$T(n) = 1 + T(\\frac{n(n-1)}{2})$$\n",
    "\n"
   ]
  },
  {
   "cell_type": "markdown",
   "metadata": {},
   "source": [
    "## Using dynamic programming for optimal rod cutting\n",
    "\n",
    "### Top-down approach\n",
    "The dynamic-programming method works as follows. Having observed that a naive recursive solution is inefficient because it solves the same subproblems repeatedly, we arrange for each subproblem to be solved only once, saving its solution. If we need to refer to this subproblem’s solution again later, we can just look it up, rather than recompute it. Dynamic programming thus uses additional memory to save computation time; The first approach is top-down with memoization.2 In this approach, we write the procedure recursively in a natural manner, but modified to save the result of each subproblem (usually in an array or hash table). The procedure now first checks to see whether it has previously solved this subproblem. If so, it returns the saved value, saving further computation at this level; if not, the procedure computes the value in the usual manner."
   ]
  },
  {
   "cell_type": "code",
   "execution_count": 12,
   "metadata": {},
   "outputs": [],
   "source": [
    "# MEMOIZED-CUT-ROD-AUX(p, n, r)\n",
    "def MCutRodAux(p, n, r):\n",
    "    if r[n-1] >= 0:\n",
    "        return r[n-1]\n",
    "    if n == 0:\n",
    "        q = 0\n",
    "    else:\n",
    "        q = 0\n",
    "        for i in range (1, n+1):\n",
    "            q = max(q, p[i-1] + MCutRodAux(p, n-i, r))\n",
    "    r[n-1] = q\n",
    "    \n",
    "    print(r)\n",
    "    return q\n",
    "    \n",
    "\n",
    "# MEMOIZED-CUT-ROD(p, n)\n",
    "def MCutRodTD(p, n):\n",
    "    r = []\n",
    "    for i in range(n):\n",
    "        r.append(-1)\n",
    "    return MCutRodAux(p, n, r)"
   ]
  },
  {
   "cell_type": "code",
   "execution_count": 13,
   "metadata": {},
   "outputs": [
    {
     "name": "stdout",
     "output_type": "stream",
     "text": [
      "[-1, -1, -1, 0]\n",
      "[1, -1, -1, 0]\n",
      "[1, 5, -1, 0]\n",
      "[1, 5, 8, 0]\n",
      "[1, 5, 8, 10]\n",
      "Ganancia maxima: 10\n"
     ]
    }
   ],
   "source": [
    "print(\"Ganancia maxima: {}\".format(MCutRodTD(P, 4)))"
   ]
  },
  {
   "cell_type": "markdown",
   "metadata": {},
   "source": [
    "En esta implementacion pude ser dificl cuantas veces la operacion `max` es ejecutada, por la recursividad. Pero si vemos a detalle nos damos cuenta que nunca hace la misma operacion dos veces ese es el objetivo. Por lo tanto suponiendo que $n=10$ el `max` va a ser ejecutado $10, 9, 8, ... , 1$ veces. \n",
    "\n",
    "Tenemos que:\n",
    "\n",
    "$$T(n)= \\sum_{i=1}^{n} i$$\n",
    "$$T(n)= \\sum_{i=1}^{n} i = \\frac{n(n+1)}{2}$$\n",
    "$$T(n)= \\frac{n^2 + n}{2}$$\n",
    "$$T(n)= \\Theta (n^2)$$"
   ]
  },
  {
   "cell_type": "markdown",
   "metadata": {},
   "source": [
    "### Bottom-up approach\n",
    "\n",
    "The second approach is the bottom-up method. This approach typically depends on some natural notion of the “size” of a subproblem, such that solving any particular subproblem depends only on solving “smaller” subproblems. We sort the subproblems by size and solve them in size order, smallest first. When solving a particular subproblem, we have already solved all of the smaller subproblems its solution depends upon, and we have saved their solutions. We solve each subproblem only once, and when we first see it, we have already solved all of its prerequisite subproblems."
   ]
  },
  {
   "cell_type": "code",
   "execution_count": 6,
   "metadata": {},
   "outputs": [],
   "source": [
    "# BOTTOM-UP-CUT-ROD(p, n)\n",
    "def BottomUpCutRod(p, n):\n",
    "    r = [None] * (n+1)\n",
    "    r[0] = 0\n",
    "    for j in range(1, n+1):\n",
    "        q = 0\n",
    "        for i in range(1, j+1):\n",
    "            q = max(q, p[i-1] + r[j-i])\n",
    "        r[j] = q\n",
    "        \n",
    "    return r[n]"
   ]
  },
  {
   "cell_type": "code",
   "execution_count": 7,
   "metadata": {},
   "outputs": [
    {
     "name": "stdout",
     "output_type": "stream",
     "text": [
      "Ganancia maxima: 17\n"
     ]
    }
   ],
   "source": [
    "print(\"Ganancia maxima: {}\".format(BottomUpCutRod(P, 6)))"
   ]
  },
  {
   "cell_type": "markdown",
   "metadata": {},
   "source": [
    "Como en la implementacion Top-down, nunca hace 2 veces la misma operacion. La ventaja de este implementacion es que es mas facil ver como los ciclos se comportan ya que no tiene llamadas recursivas. Analizando el codigo nos damos cuenta que la operacion `max` es ejecutada:\n",
    "\n",
    "$$T(n)= \\sum_{i=1}^{n} i$$\n",
    "$$T(n)= \\sum_{i=1}^{n} i = \\frac{n(n+1)}{2}$$\n",
    "$$T(n)= \\frac{n^2 + n}{2}$$\n",
    "$$T(n)= \\Theta (n^2)$$"
   ]
  }
 ],
 "metadata": {
  "kernelspec": {
   "display_name": "Python 3",
   "language": "python",
   "name": "python3"
  },
  "language_info": {
   "codemirror_mode": {
    "name": "ipython",
    "version": 3
   },
   "file_extension": ".py",
   "mimetype": "text/x-python",
   "name": "python",
   "nbconvert_exporter": "python",
   "pygments_lexer": "ipython3",
   "version": "3.7.2"
  }
 },
 "nbformat": 4,
 "nbformat_minor": 2
}
