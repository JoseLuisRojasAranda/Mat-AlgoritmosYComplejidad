{
 "cells": [
  {
   "cell_type": "markdown",
   "metadata": {},
   "source": [
    "# Estrategia Greedy\n",
    "> Materia: Algoritmos y Complejiada <br>\n",
    "> Profesor: Juan Carlos Cuevas Tello <br>\n",
    "> Alumno: Jose Luis Rojas Aranda <br>\n",
    "> Ing. Sistemas Inteligentes, UASLP <br>\n",
    "\n",
    "En este ejemplo vamos a analizar el problema de programar diferentes actividades, que requieren uso exclusivo de un mismo recurso, con el proposito de seleccionar el conjunto de tamaño maximo de actividades mutuamente compatibles\n",
    "\n",
    "<img src=\"src/actividades.png\" alt=\"drawing\" width=\"400\"/>\n",
    "\n",
    "Para este ejemplo el subconjunto de mayor tamaño es $a_1, a_3, a_8, a_{11}$\n"
   ]
  },
  {
   "cell_type": "code",
   "execution_count": 1,
   "metadata": {},
   "outputs": [],
   "source": [
    "from ordered_set import OrderedSet\n",
    "import datetime as time\n",
    "\n",
    "S = [1, 3, 0, 5, 3, 5, 6, 8, 8, 2, 12]\n",
    "F = [4, 5, 6, 7, 9, 9, 10, 11, 12, 14, 16]"
   ]
  },
  {
   "cell_type": "markdown",
   "metadata": {},
   "source": [
    "### Implementación recursiva"
   ]
  },
  {
   "cell_type": "code",
   "execution_count": 2,
   "metadata": {},
   "outputs": [],
   "source": [
    "def recursive(s, f, k, n, r):\n",
    "    m = k + 1\n",
    "    while m < n and s[m] < f[k]:\n",
    "        m = m + 1\n",
    "    if m < n:\n",
    "        r.add(m)\n",
    "        return recursive(s, f, m, n, r)\n",
    "    else:\n",
    "        return r"
   ]
  },
  {
   "cell_type": "markdown",
   "metadata": {},
   "source": [
    "En cualquier llamada recursiva del ciclo while busca alguna actividad $S_k$ con la cual acabar. Para encontrar esa activiad el ciclo examina $a_{k+1}, a_{k+2}...a_{n}$, hasta que encuntra la actividad $a_m$ que es compatible con $a_k$.\n",
    "\n",
    "Asumiendo que las activiades ya estan ordenadas por su tiempo en el que terminan, la complejidad del la implementacion recursivadad del selector de actividades es:\n",
    "$$\\Theta (n)$$\n",
    "Ya que en total cada actividad es examinada una sola vez por el ciclo while"
   ]
  },
  {
   "cell_type": "code",
   "execution_count": 3,
   "metadata": {},
   "outputs": [
    {
     "name": "stdout",
     "output_type": "stream",
     "text": [
      "OrderedSet([3, 7, 10, 0])\n"
     ]
    }
   ],
   "source": [
    "r = OrderedSet()\n",
    "r = recursive(S, F, 0, 11, r)\n",
    "r.add(0) # Actividad \"ficticia\"\n",
    "print(r)"
   ]
  },
  {
   "cell_type": "markdown",
   "metadata": {},
   "source": [
    "### Implementación greedy"
   ]
  },
  {
   "cell_type": "code",
   "execution_count": 4,
   "metadata": {},
   "outputs": [],
   "source": [
    "def greedy(s, f):\n",
    "    n = len(s)\n",
    "    A = OrderedSet()\n",
    "    A.add(0)\n",
    "    k = 0\n",
    "    m = 0\n",
    "    for m in range(1, n):\n",
    "        if s[m] >= f[k]:\n",
    "            k = m\n",
    "            A.add(k)\n",
    "    return A"
   ]
  },
  {
   "cell_type": "markdown",
   "metadata": {},
   "source": [
    "El procedimiento funciona de la siguiente manera. La variable $k$ indexa el ultimo elemento agregado a A. El ciclo for va checando acticividad por actividad, cuando encuentra $s_m >= f_k$, la actividad $a_m$ es agregada a A y $k = m$, esto lo repite hasta $n-1$.\n",
    "\n",
    "Como la version recursiva, la implementacion greedy del selector de actividades tiene un complejidad de:\n",
    "$$\\Theta(n)$$\n",
    "\n",
    "El nombre greedy viene de que asume que el primer elemento del arreglo es parte del subconjunto que se busca, la desventaja es que es posible que no encuentre la mejor solucion "
   ]
  },
  {
   "cell_type": "code",
   "execution_count": 5,
   "metadata": {},
   "outputs": [
    {
     "name": "stdout",
     "output_type": "stream",
     "text": [
      "OrderedSet([0, 3, 7, 10])\n"
     ]
    }
   ],
   "source": [
    "r = greedy(S, F)\n",
    "print(r)"
   ]
  },
  {
   "cell_type": "markdown",
   "metadata": {},
   "source": [
    "### Comparación de desempeño\n",
    "\n",
    "Tiempo de ejecucion promedio en nanosegundos de la implementacion recursiva:"
   ]
  },
  {
   "cell_type": "code",
   "execution_count": 21,
   "metadata": {},
   "outputs": [
    {
     "name": "stdout",
     "output_type": "stream",
     "text": [
      "Promedio:\n",
      "4970.0\n"
     ]
    }
   ],
   "source": [
    "s = 0\n",
    "n = 100\n",
    "for i in range(n):\n",
    "    r = OrderedSet()\n",
    "    a = time.datetime.now()\n",
    "    r = recursive(S, F, 0, 11, r)\n",
    "    b = time.datetime.now()\n",
    "    s = s + ((b-a).total_seconds() * 1e+9)\n",
    "    \n",
    "s = s / n\n",
    "print(\"Promedio:\")\n",
    "print(s)"
   ]
  },
  {
   "cell_type": "markdown",
   "metadata": {},
   "source": [
    "Tiempo de ejecucion promedio en nanosegundos de la implementacion greedy:"
   ]
  },
  {
   "cell_type": "code",
   "execution_count": 22,
   "metadata": {},
   "outputs": [
    {
     "name": "stdout",
     "output_type": "stream",
     "text": [
      "Promedio:\n",
      "4910.0\n"
     ]
    }
   ],
   "source": [
    "s = 0\n",
    "n = 100\n",
    "for i in range(n):\n",
    "    r = OrderedSet()\n",
    "    a = time.datetime.now()\n",
    "    r = greedy(S, F)\n",
    "    b = time.datetime.now()\n",
    "    s = s + ((b-a).total_seconds() * 1e+9)\n",
    "    \n",
    "s = s / n\n",
    "print(\"Promedio:\")\n",
    "print(s)"
   ]
  },
  {
   "cell_type": "markdown",
   "metadata": {},
   "source": [
    "Observamos que la diferencia es muy minima y los dos algoritmos son practimente igual de rapidos"
   ]
  }
 ],
 "metadata": {
  "kernelspec": {
   "display_name": "Python 3",
   "language": "python",
   "name": "python3"
  },
  "language_info": {
   "codemirror_mode": {
    "name": "ipython",
    "version": 3
   },
   "file_extension": ".py",
   "mimetype": "text/x-python",
   "name": "python",
   "nbconvert_exporter": "python",
   "pygments_lexer": "ipython3",
   "version": "3.7.2"
  }
 },
 "nbformat": 4,
 "nbformat_minor": 2
}
